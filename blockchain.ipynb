{
  "nbformat": 4,
  "nbformat_minor": 0,
  "metadata": {
    "colab": {
      "name": "blockchain.ipynb",
      "version": "0.3.2",
      "provenance": [],
      "include_colab_link": true
    },
    "kernelspec": {
      "display_name": "Python 3",
      "language": "python",
      "name": "python3"
    }
  },
  "cells": [
    {
      "cell_type": "markdown",
      "metadata": {
        "id": "view-in-github",
        "colab_type": "text"
      },
      "source": [
        "[View in Colaboratory](https://colab.research.google.com/github/from81/omis120stockmarket/blob/master/blockchain.ipynb)"
      ]
    },
    {
      "metadata": {
        "id": "jf1n4eUa9Y2T",
        "colab_type": "code",
        "colab": {
          "base_uri": "https://localhost:8080/",
          "height": 37
        },
        "outputId": "9cce196d-0350-461e-ad5b-9369a6a5cd3a"
      },
      "cell_type": "code",
      "source": [
        "import hashlib as hasher\n",
        "import datetime as date\n",
        "import pandas as pd"
      ],
      "execution_count": 1,
      "outputs": []
    },
    {
      "metadata": {
        "id": "aYRVMSBb9Y2Y",
        "colab_type": "text"
      },
      "cell_type": "markdown",
      "source": [
        "First, we need to define what a \"block\" is.<br>Another words, we will define the data structure of a block, and create a class object Block. Let's list what we need to store in each block:\n",
        "\n",
        "<ul>\n",
        "<li>index</li>\n",
        "<li>timestamp (of generation)</li>\n",
        "<li>data (whatever we want)</li>\n",
        "<li>self-identifying hash</li>\n",
        "</ul>\n",
        "\n",
        "Like Bitcoin, each block’s hash will be a cryptographic hash of the block’s index, timestamp, data, \n",
        "and the hash of the previous block’s hash."
      ]
    },
    {
      "metadata": {
        "id": "lg8SYa8a9Y2Y",
        "colab_type": "code",
        "colab": {}
      },
      "cell_type": "code",
      "source": [
        "class Block:\n",
        "    def __init__(self, index, timestamp, data, previous_hash):\n",
        "        self.index = index\n",
        "        self.timestamp = timestamp\n",
        "        self.data = data\n",
        "        self.previous_hash = previous_hash\n",
        "        self.hash = self.hash_block()\n",
        "\n",
        "    def hash_block(self):\n",
        "        hsh = hasher.sha256()\n",
        "        hsh.update(\n",
        "            (\n",
        "            str(self.index) + \n",
        "            str(self.timestamp) + \n",
        "            str(self.data) + \n",
        "            str(self.previous_hash)\n",
        "            ).encode())\n",
        "        return hsh.hexdigest()"
      ],
      "execution_count": 0,
      "outputs": []
    },
    {
      "metadata": {
        "id": "LNmbxlfL9Y2b",
        "colab_type": "text"
      },
      "cell_type": "markdown",
      "source": [
        "We defined what each block will look like, and each block requires a preceding block.<br>\n",
        "So our next step is to generate the first block (genesis block) which will precede all blocks thereafter:\n",
        "<ul>\n",
        "<li>Since this is just a demo, we will manually create a function that will output the genesis block</li>\n",
        "<li>It will have index 0, an arbitrary data value, and an arbitrary value in the “previous hash” parameter</li>\n",
        "</ul>"
      ]
    },
    {
      "metadata": {
        "id": "ZZxwON3Y9Y2c",
        "colab_type": "code",
        "colab": {}
      },
      "cell_type": "code",
      "source": [
        "def genesis_block():\n",
        "    return Block(0, date.datetime.now(), \"Some data\", \"0\")"
      ],
      "execution_count": 0,
      "outputs": []
    },
    {
      "metadata": {
        "id": "-nVcP9yR9Y2e",
        "colab_type": "text"
      },
      "cell_type": "markdown",
      "source": [
        "So far, we have defined the data structure of a block, and also created a function to create the genesis block.<br>\n",
        "Next, we will need to create a function that will generate the next blocks.<br>\n",
        "Since we are making a blockCHAIN, this function will take the previous block as an input.<br>\n",
        "Each block will not only record the hash of the previous block, but also incorporate that into the hash function<br>\n",
        "By hashing recursively, the integrity and security of the blockchain increases as the length grows, which makes blockchain scalable.<br>"
      ]
    },
    {
      "metadata": {
        "id": "FOUnWejO9Y2f",
        "colab_type": "code",
        "colab": {}
      },
      "cell_type": "code",
      "source": [
        "def next_block(last_block):\n",
        "    this_index = last_block.index + 1\n",
        "    this_timestamp = date.datetime.now()\n",
        "    this_data = \"Hey! I'm block \" + str(this_index)\n",
        "    this_hash = last_block.hash\n",
        "    return Block(this_index, this_timestamp, this_data, this_hash)"
      ],
      "execution_count": 0,
      "outputs": []
    },
    {
      "metadata": {
        "id": "0bIf0_iv9Y2i",
        "colab_type": "text"
      },
      "cell_type": "markdown",
      "source": [
        "Now, we can create our blockchain. We can begin this by calling the create_genesis_block() function that we defined earlier."
      ]
    },
    {
      "metadata": {
        "id": "iNTO-xhd9Y2i",
        "colab_type": "code",
        "colab": {
          "base_uri": "https://localhost:8080/",
          "height": 1088
        },
        "outputId": "8d065d2e-2ab5-48b8-d35a-f1e19eea5a21"
      },
      "cell_type": "code",
      "source": [
        "blockchain = [genesis_block()]\n",
        "previous_block = blockchain[0]\n",
        "print(\"Genesis block #{} created.\".format(previous_block.index))\n",
        "print(\"Hash: {}\\n\".format(previous_block.hash))\n",
        "\n",
        "number_of_blocks = 20\n",
        "\n",
        "for i in range(number_of_blocks):\n",
        "    new_block = next_block(previous_block)\n",
        "    blockchain.append(new_block)\n",
        "    previous_block = new_block\n",
        "\n",
        "    print(\"Block #{} has been added to the blockchain.\".format(new_block.index))\n",
        "    print(\"Hash: {}\\n\".format(new_block.hash))"
      ],
      "execution_count": 27,
      "outputs": [
        {
          "output_type": "stream",
          "text": [
            "Genesis block #0 created.\n",
            "Hash: d99b1cac06ef7b5bc3f6a36d155beaacdff2c5c6da9efbaadc0b063a39e95870\n",
            "\n",
            "Block #1 has been added to the blockchain.\n",
            "Hash: 811d41cfc889f25416559bcb0974a8f1c013e50784f5d86e51fb6713140428ac\n",
            "\n",
            "Block #2 has been added to the blockchain.\n",
            "Hash: 421adb02286ee34f0a4f3962b1288d3e1e5940b447ec3c36fbd0ae3584534dcf\n",
            "\n",
            "Block #3 has been added to the blockchain.\n",
            "Hash: f494267774342a8b718067b9ad7eee5affcd5be18ba23ece44005da3fab549ed\n",
            "\n",
            "Block #4 has been added to the blockchain.\n",
            "Hash: e91fc03833be70f8072b5dfdd68c2ce13957c366b3b36391059745dfe67c43b7\n",
            "\n",
            "Block #5 has been added to the blockchain.\n",
            "Hash: a44be1caad774d3e23f8f19121dd664851eb280e38abb42e946c4d7a7cf3ed67\n",
            "\n",
            "Block #6 has been added to the blockchain.\n",
            "Hash: c4985cd4a8c33a6ed2a946c89900f4325f2b40e27c22bb900102ad61dffee0ff\n",
            "\n",
            "Block #7 has been added to the blockchain.\n",
            "Hash: 4e2463c6aab1d7ee24d20d8f8a636a80138413d5d78e6027c3e46b88f8bcaa1d\n",
            "\n",
            "Block #8 has been added to the blockchain.\n",
            "Hash: 7ed76fbed809a8fa314edf36a5a9b998e413780aabe6959f1375f161e6c05b5d\n",
            "\n",
            "Block #9 has been added to the blockchain.\n",
            "Hash: ae86d46479ee8c8abddcddb7b5c40c6a48e12b4d62fa7598ebb4bcb98b5cc42d\n",
            "\n",
            "Block #10 has been added to the blockchain.\n",
            "Hash: 27080e78a98435aadfd60b27555728ae3664f58fb39aa13683fbcfee658e129b\n",
            "\n",
            "Block #11 has been added to the blockchain.\n",
            "Hash: c28fa2ab80b849948ff92303c24b086d01b73b3177372dc80973b3070f3ef3a2\n",
            "\n",
            "Block #12 has been added to the blockchain.\n",
            "Hash: 62e63482bfc015e738794e4b37cadda9659c82de4e5bcd401501fa1408eeea2d\n",
            "\n",
            "Block #13 has been added to the blockchain.\n",
            "Hash: ae19387178a5c5c43c0f4202bd30cfc95c109e6924f591978f08fc737c415b65\n",
            "\n",
            "Block #14 has been added to the blockchain.\n",
            "Hash: bcb6d86406b051c853456d91819e427548e7e986696740ea5abbfdca7d10e28b\n",
            "\n",
            "Block #15 has been added to the blockchain.\n",
            "Hash: 523256c67388f3edaa49926272bd88f7a84052d37e2a7a9b972cdab001b00bac\n",
            "\n",
            "Block #16 has been added to the blockchain.\n",
            "Hash: f542c53533322ece4521f8ca8cc2451fe0dbbb2db0d7efaeccfc4c3130e7f65b\n",
            "\n",
            "Block #17 has been added to the blockchain.\n",
            "Hash: ee12248a1edda32df0aabc2e22eace16910ec1a17007ca5a7d621a5fe07a5052\n",
            "\n",
            "Block #18 has been added to the blockchain.\n",
            "Hash: dedaa21ca28729ab7c7ef347f80355a2e2c818319f96eed84805d32a553ae5f2\n",
            "\n",
            "Block #19 has been added to the blockchain.\n",
            "Hash: f42598f105eab0ee344e4ba5d8589e1d1a527d470a194b26ab9ff700d1025c78\n",
            "\n",
            "Block #20 has been added to the blockchain.\n",
            "Hash: ec11744a1c9f3b06622d2fd1353c7164e09a61b6536a80f7f245a6a3f69b2474\n",
            "\n"
          ],
          "name": "stdout"
        }
      ]
    },
    {
      "metadata": {
        "id": "KXhOZAHV9Y2p",
        "colab_type": "code",
        "colab": {}
      },
      "cell_type": "code",
      "source": [
        "chain = []\n",
        "for block in blockchain:\n",
        "    li = []\n",
        "    li.append(block.index)\n",
        "    li.append(block.timestamp)\n",
        "    li.append(block.data)\n",
        "    li.append(block.previous_hash)\n",
        "    li.append(block.hash)\n",
        "    chain.append(li)"
      ],
      "execution_count": 0,
      "outputs": []
    },
    {
      "metadata": {
        "id": "9F3cJABg9Y2s",
        "colab_type": "code",
        "colab": {}
      },
      "cell_type": "code",
      "source": [
        "blockchain = pd.DataFrame(chain, columns=['index', 'timestamp' ,'data' , 'previousHash', 'hash'])\n",
        "blockchain = blockchain.set_index('index')"
      ],
      "execution_count": 0,
      "outputs": []
    },
    {
      "metadata": {
        "id": "TBfCpTqt9Y2v",
        "colab_type": "code",
        "colab": {
          "base_uri": "https://localhost:8080/",
          "height": 235
        },
        "outputId": "677ffe78-2730-4330-e366-a21442190530"
      },
      "cell_type": "code",
      "source": [
        "blockchain.head()"
      ],
      "execution_count": 30,
      "outputs": [
        {
          "output_type": "execute_result",
          "data": {
            "text/html": [
              "<div>\n",
              "<style scoped>\n",
              "    .dataframe tbody tr th:only-of-type {\n",
              "        vertical-align: middle;\n",
              "    }\n",
              "\n",
              "    .dataframe tbody tr th {\n",
              "        vertical-align: top;\n",
              "    }\n",
              "\n",
              "    .dataframe thead th {\n",
              "        text-align: right;\n",
              "    }\n",
              "</style>\n",
              "<table border=\"1\" class=\"dataframe\">\n",
              "  <thead>\n",
              "    <tr style=\"text-align: right;\">\n",
              "      <th></th>\n",
              "      <th>timestamp</th>\n",
              "      <th>data</th>\n",
              "      <th>previousHash</th>\n",
              "      <th>hash</th>\n",
              "    </tr>\n",
              "    <tr>\n",
              "      <th>index</th>\n",
              "      <th></th>\n",
              "      <th></th>\n",
              "      <th></th>\n",
              "      <th></th>\n",
              "    </tr>\n",
              "  </thead>\n",
              "  <tbody>\n",
              "    <tr>\n",
              "      <th>0</th>\n",
              "      <td>2018-06-28 10:52:14.525487</td>\n",
              "      <td>Some data</td>\n",
              "      <td>0</td>\n",
              "      <td>d99b1cac06ef7b5bc3f6a36d155beaacdff2c5c6da9efb...</td>\n",
              "    </tr>\n",
              "    <tr>\n",
              "      <th>1</th>\n",
              "      <td>2018-06-28 10:52:14.526690</td>\n",
              "      <td>Hey! I'm block 1</td>\n",
              "      <td>d99b1cac06ef7b5bc3f6a36d155beaacdff2c5c6da9efb...</td>\n",
              "      <td>811d41cfc889f25416559bcb0974a8f1c013e50784f5d8...</td>\n",
              "    </tr>\n",
              "    <tr>\n",
              "      <th>2</th>\n",
              "      <td>2018-06-28 10:52:14.527056</td>\n",
              "      <td>Hey! I'm block 2</td>\n",
              "      <td>811d41cfc889f25416559bcb0974a8f1c013e50784f5d8...</td>\n",
              "      <td>421adb02286ee34f0a4f3962b1288d3e1e5940b447ec3c...</td>\n",
              "    </tr>\n",
              "    <tr>\n",
              "      <th>3</th>\n",
              "      <td>2018-06-28 10:52:14.528375</td>\n",
              "      <td>Hey! I'm block 3</td>\n",
              "      <td>421adb02286ee34f0a4f3962b1288d3e1e5940b447ec3c...</td>\n",
              "      <td>f494267774342a8b718067b9ad7eee5affcd5be18ba23e...</td>\n",
              "    </tr>\n",
              "    <tr>\n",
              "      <th>4</th>\n",
              "      <td>2018-06-28 10:52:14.530023</td>\n",
              "      <td>Hey! I'm block 4</td>\n",
              "      <td>f494267774342a8b718067b9ad7eee5affcd5be18ba23e...</td>\n",
              "      <td>e91fc03833be70f8072b5dfdd68c2ce13957c366b3b363...</td>\n",
              "    </tr>\n",
              "  </tbody>\n",
              "</table>\n",
              "</div>"
            ],
            "text/plain": [
              "                       timestamp              data  \\\n",
              "index                                                \n",
              "0     2018-06-28 10:52:14.525487         Some data   \n",
              "1     2018-06-28 10:52:14.526690  Hey! I'm block 1   \n",
              "2     2018-06-28 10:52:14.527056  Hey! I'm block 2   \n",
              "3     2018-06-28 10:52:14.528375  Hey! I'm block 3   \n",
              "4     2018-06-28 10:52:14.530023  Hey! I'm block 4   \n",
              "\n",
              "                                            previousHash  \\\n",
              "index                                                      \n",
              "0                                                      0   \n",
              "1      d99b1cac06ef7b5bc3f6a36d155beaacdff2c5c6da9efb...   \n",
              "2      811d41cfc889f25416559bcb0974a8f1c013e50784f5d8...   \n",
              "3      421adb02286ee34f0a4f3962b1288d3e1e5940b447ec3c...   \n",
              "4      f494267774342a8b718067b9ad7eee5affcd5be18ba23e...   \n",
              "\n",
              "                                                    hash  \n",
              "index                                                     \n",
              "0      d99b1cac06ef7b5bc3f6a36d155beaacdff2c5c6da9efb...  \n",
              "1      811d41cfc889f25416559bcb0974a8f1c013e50784f5d8...  \n",
              "2      421adb02286ee34f0a4f3962b1288d3e1e5940b447ec3c...  \n",
              "3      f494267774342a8b718067b9ad7eee5affcd5be18ba23e...  \n",
              "4      e91fc03833be70f8072b5dfdd68c2ce13957c366b3b363...  "
            ]
          },
          "metadata": {
            "tags": []
          },
          "execution_count": 30
        }
      ]
    },
    {
      "metadata": {
        "id": "2rqWwU06C7Pt",
        "colab_type": "text"
      },
      "cell_type": "markdown",
      "source": [
        "How can we know this is legit?<br>\n",
        "Inside the Block class object, you will find the line `self.hash = self.hash_block()`<br>\n",
        "This simply takes a string (in UTF-8 encoding) and uses that as a seed to generate a hash. Think of it as an encryption. That means, if you put together the index, timestamp, data, and previousHash of any given row above, you will be able to generate the same hash.<br>\n",
        "\n",
        "Example:\n",
        "At the time of testing, my first row is\n",
        "*   index: 0\n",
        "*   timestamp: 2018-06-28 10:52:14.525487\n",
        "*   data: Some data\n",
        "*   previousHash: 0\n",
        "*   Hash: d99b1cac06ef7b5b\n",
        "\n",
        "\n",
        "\n",
        "Therefore, if I go to https://passwordsgenerator.net/sha256-hash-generator/ and enter \n",
        "\"02018-06-28 10:52:14.525487Some data0\", I get the exact same hash."
      ]
    },
    {
      "metadata": {
        "id": "6PCC11yXDPsU",
        "colab_type": "code",
        "colab": {}
      },
      "cell_type": "code",
      "source": [
        ""
      ],
      "execution_count": 0,
      "outputs": []
    }
  ]
}